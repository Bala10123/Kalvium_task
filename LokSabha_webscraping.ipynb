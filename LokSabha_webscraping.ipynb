{
  "nbformat": 4,
  "nbformat_minor": 0,
  "metadata": {
    "colab": {
      "provenance": []
    },
    "kernelspec": {
      "name": "python3",
      "display_name": "Python 3"
    },
    "language_info": {
      "name": "python"
    }
  },
  "cells": [
    {
      "cell_type": "code",
      "execution_count": 1,
      "metadata": {
        "id": "z4WjqV3C_u7V"
      },
      "outputs": [],
      "source": [
        "import numpy as np\n",
        "import pandas as pd\n",
        "import re\n",
        "import requests\n",
        "from bs4 import BeautifulSoup\n",
        "import matplotlib.pyplot as plt\n",
        "import seaborn as sns\n",
        "\n"
      ]
    },
    {
      "cell_type": "code",
      "source": [
        "import requests\n",
        "from bs4 import BeautifulSoup\n",
        "\n",
        "url = \"https://results.eci.gov.in/PcResultGenJune2024/index.htm\"\n",
        "response = requests.get(url)\n",
        "print(response)\n",
        "html_content = response.text\n",
        "soup = BeautifulSoup(html_content, \"html.parser\")\n"
      ],
      "metadata": {
        "colab": {
          "base_uri": "https://localhost:8080/"
        },
        "id": "4DYqh9y9_v4D",
        "outputId": "0f12436d-1427-4ad6-d182-8bf8aec366c0"
      },
      "execution_count": 1,
      "outputs": [
        {
          "output_type": "stream",
          "name": "stdout",
          "text": [
            "<Response [200]>\n"
          ]
        }
      ]
    },
    {
      "cell_type": "code",
      "source": [
        "import requests\n",
        "from bs4 import BeautifulSoup\n",
        "\n",
        "result_table = []\n",
        "state_results = []\n",
        "dropdown_options = soup.findAll(\"option\")\n",
        "state_values = {}\n",
        "party_links = []\n",
        "base_url = \"https://results.eci.gov.in/PcResultGenJune2024/partywiseresult-\"\n",
        "\n",
        "for opt in dropdown_options:\n",
        "    value = opt.get(\"value\")\n",
        "    state_name = opt.text\n",
        "    if value:\n",
        "        state_values[value] = state_name\n",
        "\n",
        "for state_code in state_values:\n",
        "    result_rows = None\n",
        "    state_name = state_values[state_code]\n",
        "    full_url = f\"{base_url}{state_code}.htm\"\n",
        "    response = requests.get(full_url)\n",
        "    response_html = response.content\n",
        "    soup = BeautifulSoup(response_html, \"html.parser\")\n",
        "    result_rows = soup.findAll(\"tr\", \"class_\" == \"tr\")\n",
        "    constituencies = soup.findAll(\"option\")\n",
        "    state_results.append([state_name, result_rows, constituencies])\n",
        "\n",
        "for i in range(len(state_results)):\n",
        "    for row in state_results[i][1]:\n",
        "        if row.find(\"td\", {\"style\":\"text-align:left\"}) is not None:\n",
        "            party_name = row.find(\"td\", {\"style\":\"text-align:left\"}).text\n",
        "            seats_won = row.find(\"a\").text\n",
        "            # for constituency in state_results[i][2]:\n",
        "            #   if constituency.get(\"value\") != None and constituency.get(\"value\").strip()!='SelectConstituency' and constituency.get(\"value\")!= ' Select Constituency ':\n",
        "            #     constituency_name = constituency.text\n",
        "            #     if [state_results[i][0],constituency_name,party_name,seats_won] not in result_table:\n",
        "            if [state_results[i][0], party_name, seats_won] not in result_table:\n",
        "                result_table.append([state_results[i][0], party_name, seats_won])\n",
        "\n",
        "result_table\n"
      ],
      "metadata": {
        "colab": {
          "base_uri": "https://localhost:8080/"
        },
        "id": "6d76861HACoQ",
        "outputId": "038329e5-d50a-4ce6-ea0f-826b6647299e"
      },
      "execution_count": 2,
      "outputs": [
        {
          "output_type": "execute_result",
          "data": {
            "text/plain": [
              "[['Andaman & Nicobar Islands', 'Bharatiya Janata Party - BJP', '1'],\n",
              " ['Andhra Pradesh', 'Telugu Desam - TDP', '16'],\n",
              " ['Andhra Pradesh', 'Yuvajana Sramika Rythu Congress Party - YSRCP', '4'],\n",
              " ['Andhra Pradesh', 'Bharatiya Janata Party - BJP', '3'],\n",
              " ['Andhra Pradesh', 'Janasena Party - JnP', '2'],\n",
              " ['Arunachal Pradesh', 'Bharatiya Janata Party - BJP', '2'],\n",
              " ['Assam', 'Bharatiya Janata Party - BJP', '9'],\n",
              " ['Assam', 'Indian National Congress - INC', '3'],\n",
              " ['Assam', 'United People’s Party, Liberal - UPPL', '1'],\n",
              " ['Assam', 'Asom Gana Parishad - AGP', '1'],\n",
              " ['Bihar', 'Janata Dal  (United) - JD(U)', '12'],\n",
              " ['Bihar', 'Bharatiya Janata Party - BJP', '12'],\n",
              " ['Bihar', 'Lok Janshakti Party(Ram Vilas) - LJPRV', '5'],\n",
              " ['Bihar', 'Rashtriya Janata Dal - RJD', '4'],\n",
              " ['Bihar', 'Indian National Congress - INC', '3'],\n",
              " ['Bihar',\n",
              "  'Communist Party of India  (Marxist-Leninist)  (Liberation) - CPI(ML)(L)',\n",
              "  '2'],\n",
              " ['Bihar', 'Hindustani Awam Morcha (Secular) - HAMS', '1'],\n",
              " ['Bihar', 'Independent - IND', '1'],\n",
              " ['Chandigarh', 'Indian National Congress - INC', '1'],\n",
              " ['Chhattisgarh', 'Bharatiya Janata Party - BJP', '10'],\n",
              " ['Chhattisgarh', 'Indian National Congress - INC', '1'],\n",
              " ['Dadra & Nagar Haveli and Daman & Diu', 'Bharatiya Janata Party - BJP', '1'],\n",
              " ['Dadra & Nagar Haveli and Daman & Diu', 'Independent - IND', '1'],\n",
              " ['Goa', 'Bharatiya Janata Party - BJP', '1'],\n",
              " ['Goa', 'Indian National Congress - INC', '1'],\n",
              " ['Gujarat', 'Bharatiya Janata Party - BJP', '25'],\n",
              " ['Gujarat', 'Indian National Congress - INC', '1'],\n",
              " ['Haryana', 'Indian National Congress - INC', '5'],\n",
              " ['Haryana', 'Bharatiya Janata Party - BJP', '5'],\n",
              " ['Himachal Pradesh', 'Bharatiya Janata Party - BJP', '4'],\n",
              " ['Jammu and Kashmir', 'Jammu & Kashmir National Conference - JKN', '2'],\n",
              " ['Jammu and Kashmir', 'Bharatiya Janata Party - BJP', '2'],\n",
              " ['Jammu and Kashmir', 'Independent - IND', '1'],\n",
              " ['Jharkhand', 'Bharatiya Janata Party - BJP', '8'],\n",
              " ['Jharkhand', 'Jharkhand Mukti Morcha - JMM', '3'],\n",
              " ['Jharkhand', 'Indian National Congress - INC', '2'],\n",
              " ['Jharkhand', 'AJSU Party - AJSUP', '1'],\n",
              " ['Karnataka', 'Bharatiya Janata Party - BJP', '17'],\n",
              " ['Karnataka', 'Indian National Congress - INC', '9'],\n",
              " ['Karnataka', 'Janata Dal  (Secular) - JD(S)', '2'],\n",
              " ['Kerala', 'Indian National Congress - INC', '14'],\n",
              " ['Kerala', 'Indian Union Muslim League - IUML', '2'],\n",
              " ['Kerala', 'Communist Party of India  (Marxist) - CPI(M)', '1'],\n",
              " ['Kerala', 'Bharatiya Janata Party - BJP', '1'],\n",
              " ['Kerala', 'Kerala Congress - KEC', '1'],\n",
              " ['Kerala', 'Revolutionary Socialist Party - RSP', '1'],\n",
              " ['Ladakh', 'Independent - IND', '1'],\n",
              " ['Lakshadweep', 'Indian National Congress - INC', '1'],\n",
              " ['Madhya Pradesh', 'Bharatiya Janata Party - BJP', '29'],\n",
              " ['Maharashtra', 'Indian National Congress - INC', '13'],\n",
              " ['Maharashtra', 'Bharatiya Janata Party - BJP', '9'],\n",
              " ['Maharashtra', 'Shiv Sena (Uddhav Balasaheb Thackrey) - SHSUBT', '9'],\n",
              " ['Maharashtra',\n",
              "  'Nationalist Congress Party – Sharadchandra Pawar - NCPSP',\n",
              "  '8'],\n",
              " ['Maharashtra', 'Shiv Sena - SHS', '7'],\n",
              " ['Maharashtra', 'Nationalist Congress Party - NCP', '1'],\n",
              " ['Maharashtra', 'Independent - IND', '1'],\n",
              " ['Manipur', 'Indian National Congress - INC', '2'],\n",
              " ['Meghalaya', 'Voice of the People Party - VOTPP', '1'],\n",
              " ['Meghalaya', 'Indian National Congress - INC', '1'],\n",
              " ['Mizoram', 'Zoram People’s Movement - ZPM', '1'],\n",
              " ['Nagaland', 'Indian National Congress - INC', '1'],\n",
              " ['NCT OF Delhi', 'Bharatiya Janata Party - BJP', '7'],\n",
              " ['Odisha', 'Bharatiya Janata Party - BJP', '20'],\n",
              " ['Odisha', 'Indian National Congress - INC', '1'],\n",
              " ['Puducherry', 'Indian National Congress - INC', '1'],\n",
              " ['Punjab', 'Indian National Congress - INC', '7'],\n",
              " ['Punjab', 'Aam Aadmi Party - AAAP', '3'],\n",
              " ['Punjab', 'Shiromani Akali Dal - SAD', '1'],\n",
              " ['Punjab', 'Independent - IND', '2'],\n",
              " ['Rajasthan', 'Bharatiya Janata Party - BJP', '14'],\n",
              " ['Rajasthan', 'Indian National Congress - INC', '8'],\n",
              " ['Rajasthan', 'Communist Party of India  (Marxist) - CPI(M)', '1'],\n",
              " ['Rajasthan', 'Rashtriya Loktantrik Party - RLTP', '1'],\n",
              " ['Rajasthan', 'Bharat Adivasi Party - BHRTADVSIP', '1'],\n",
              " ['Sikkim', 'Sikkim Krantikari Morcha - SKM', '1'],\n",
              " ['Tamil Nadu', 'Dravida Munnetra Kazhagam - DMK', '22'],\n",
              " ['Tamil Nadu', 'Indian National Congress - INC', '9'],\n",
              " ['Tamil Nadu', 'Viduthalai Chiruthaigal Katchi - VCK', '2'],\n",
              " ['Tamil Nadu', 'Communist Party of India - CPI', '2'],\n",
              " ['Tamil Nadu', 'Communist Party of India  (Marxist) - CPI(M)', '2'],\n",
              " ['Tamil Nadu', 'Marumalarchi Dravida Munnetra Kazhagam - MDMK', '1'],\n",
              " ['Tamil Nadu', 'Indian Union Muslim League - IUML', '1'],\n",
              " ['Telangana', 'Bharatiya Janata Party - BJP', '8'],\n",
              " ['Telangana', 'Indian National Congress - INC', '8'],\n",
              " ['Telangana', 'All India Majlis-E-Ittehadul Muslimeen - AIMIM', '1'],\n",
              " ['Tripura', 'Bharatiya Janata Party - BJP', '2'],\n",
              " ['Uttar Pradesh', 'Samajwadi Party - SP', '37'],\n",
              " ['Uttar Pradesh', 'Bharatiya Janata Party - BJP', '33'],\n",
              " ['Uttar Pradesh', 'Indian National Congress - INC', '6'],\n",
              " ['Uttar Pradesh', 'Rashtriya Lok Dal - RLD', '2'],\n",
              " ['Uttar Pradesh', 'Aazad Samaj Party (Kanshi Ram) - ASPKR', '1'],\n",
              " ['Uttar Pradesh', 'Apna Dal (Soneylal) - ADAL', '1'],\n",
              " ['Uttarakhand', 'Bharatiya Janata Party - BJP', '5'],\n",
              " ['West Bengal', 'All India Trinamool Congress - AITC', '29'],\n",
              " ['West Bengal', 'Bharatiya Janata Party - BJP', '12'],\n",
              " ['West Bengal', 'Indian National Congress - INC', '1']]"
            ]
          },
          "metadata": {},
          "execution_count": 2
        }
      ]
    },
    {
      "cell_type": "code",
      "source": [],
      "metadata": {
        "id": "Nf9sryR4ePFJ"
      },
      "execution_count": null,
      "outputs": []
    },
    {
      "cell_type": "markdown",
      "source": [],
      "metadata": {
        "id": "KGX6AI7_Wehc"
      }
    },
    {
      "cell_type": "code",
      "source": [
        "\n",
        "# URL of the election results website\n",
        "url = 'https://results.eci.gov.in/PcResultGenJune2024/index.htm'\n",
        "\n",
        "# Send a GET request to fetch the web page content\n",
        "html = requests.get(url)\n",
        "s = BeautifulSoup(html.content, 'html.parser')\n",
        "\n",
        "# Initialize an empty list to store the party names\n",
        "party_names = []\n",
        "party_won_no=[]\n",
        "\n",
        "\n",
        "rows = s.find_all(\"tr\")\n",
        "\n",
        "for tr in rows:\n",
        "\n",
        "    party_name_cell = tr.find(\"td\", {\"style\": \"text-align:left\"})\n",
        "    w_no = tr.find(\"td\",{\"style\": \"text-align:right\"})\n",
        "    if party_name_cell:\n",
        "        party_names.append(party_name_cell.text.strip())\n",
        "    if w_no:\n",
        "            party_won_no.append(w_no.text.strip())\n",
        "print(party_names)\n",
        "\n",
        "print(party_won_no)\n",
        "\n",
        "\n"
      ],
      "metadata": {
        "colab": {
          "base_uri": "https://localhost:8080/"
        },
        "id": "aMF0bBKwAZx6",
        "outputId": "453cbfb1-be43-4378-9092-d3eac210e0df"
      },
      "execution_count": 27,
      "outputs": [
        {
          "output_type": "stream",
          "name": "stdout",
          "text": [
            "['Bharatiya Janata Party - BJP', 'Indian National Congress - INC', 'Samajwadi Party - SP', 'All India Trinamool Congress - AITC', 'Dravida Munnetra Kazhagam - DMK', 'Telugu Desam - TDP', 'Janata Dal  (United) - JD(U)', 'Shiv Sena (Uddhav Balasaheb Thackrey) - SHSUBT', 'Nationalist Congress Party – Sharadchandra Pawar - NCPSP', 'Shiv Sena - SHS', 'Lok Janshakti Party(Ram Vilas) - LJPRV', 'Yuvajana Sramika Rythu Congress Party - YSRCP', 'Rashtriya Janata Dal - RJD', 'Communist Party of India  (Marxist) - CPI(M)', 'Indian Union Muslim League - IUML', 'Aam Aadmi Party - AAAP', 'Jharkhand Mukti Morcha - JMM', 'Janasena Party - JnP', 'Communist Party of India  (Marxist-Leninist)  (Liberation) - CPI(ML)(L)', 'Janata Dal  (Secular) - JD(S)', 'Viduthalai Chiruthaigal Katchi - VCK', 'Communist Party of India - CPI', 'Rashtriya Lok Dal - RLD', 'Jammu & Kashmir National Conference - JKN', 'United People’s Party, Liberal - UPPL', 'Asom Gana Parishad - AGP', 'Hindustani Awam Morcha (Secular) - HAMS', 'Kerala Congress - KEC', 'Revolutionary Socialist Party - RSP', 'Nationalist Congress Party - NCP', 'Voice of the People Party - VOTPP', 'Zoram People’s Movement - ZPM', 'Shiromani Akali Dal - SAD', 'Rashtriya Loktantrik Party - RLTP', 'Bharat Adivasi Party - BHRTADVSIP', 'Sikkim Krantikari Morcha - SKM', 'Marumalarchi Dravida Munnetra Kazhagam - MDMK', 'Aazad Samaj Party (Kanshi Ram) - ASPKR', 'Apna Dal (Soneylal) - ADAL', 'AJSU Party - AJSUP', 'All India Majlis-E-Ittehadul Muslimeen - AIMIM', 'Independent - IND']\n",
            "['240', '99', '37', '29', '22', '16', '12', '9', '8', '7', '5', '4', '4', '4', '3', '3', '3', '2', '2', '2', '2', '2', '2', '2', '1', '1', '1', '1', '1', '1', '1', '1', '1', '1', '1', '1', '1', '1', '1', '1', '1', '7']\n"
          ]
        }
      ]
    },
    {
      "cell_type": "code",
      "source": [],
      "metadata": {
        "id": "9IxanyA0hNqW"
      },
      "execution_count": null,
      "outputs": []
    },
    {
      "cell_type": "code",
      "source": [
        "import pandas as pd\n",
        "\n",
        "# Your data\n",
        "data = [\n",
        "    ['Andaman & Nicobar Islands', 'Bharatiya Janata Party - BJP', '1'],\n",
        "    ['Andhra Pradesh', 'Telugu Desam - TDP', '16'],\n",
        "    ['Andhra Pradesh', 'Yuvajana Sramika Rythu Congress Party - YSRCP', '4'],\n",
        "    ['Andhra Pradesh', 'Bharatiya Janata Party - BJP', '3'],\n",
        "    ['Andhra Pradesh', 'Janasena Party - JnP', '2'],\n",
        "    ['Arunachal Pradesh', 'Bharatiya Janata Party - BJP', '2'],\n",
        "    ['Assam', 'Bharatiya Janata Party - BJP', '9'],\n",
        "    ['Assam', 'Indian National Congress - INC', '3'],\n",
        "    ['Assam', 'United People’s Party, Liberal - UPPL', '1'],\n",
        "    ['Assam', 'Asom Gana Parishad - AGP', '1'],\n",
        "    ['Bihar', 'Janata Dal  (United) - JD(U)', '12'],\n",
        "    ['Bihar', 'Bharatiya Janata Party - BJP', '12'],\n",
        "    ['Bihar', 'Lok Janshakti Party(Ram Vilas) - LJPRV', '5'],\n",
        "    ['Bihar', 'Rashtriya Janata Dal - RJD', '4'],\n",
        "    ['Bihar', 'Indian National Congress - INC', '3'],\n",
        "    ['Bihar', 'Communist Party of India  (Marxist-Leninist)  (Liberation) - CPI(ML)(L)', '2'],\n",
        "    ['Bihar', 'Hindustani Awam Morcha (Secular) - HAMS', '1'],\n",
        "    ['Bihar', 'Independent - IND', '1'],\n",
        "    ['Chandigarh', 'Indian National Congress - INC', '1'],\n",
        "    ['Chhattisgarh', 'Bharatiya Janata Party - BJP', '10'],\n",
        "    ['Chhattisgarh', 'Indian National Congress - INC', '1'],\n",
        "    ['Dadra & Nagar Haveli and Daman & Diu', 'Bharatiya Janata Party - BJP', '1'],\n",
        "    ['Dadra & Nagar Haveli and Daman & Diu', 'Independent - IND', '1'],\n",
        "    ['Goa', 'Bharatiya Janata Party - BJP', '1'],\n",
        "    ['Goa', 'Indian National Congress - INC', '1'],\n",
        "    ['Gujarat', 'Bharatiya Janata Party - BJP', '25'],\n",
        "    ['Gujarat', 'Indian National Congress - INC', '1'],\n",
        "    ['Haryana', 'Indian National Congress - INC', '5'],\n",
        "    ['Haryana', 'Bharatiya Janata Party - BJP', '5'],\n",
        "    ['Himachal Pradesh', 'Bharatiya Janata Party - BJP', '4'],\n",
        "    ['Jammu and Kashmir', 'Jammu & Kashmir National Conference - JKN', '2'],\n",
        "    ['Jammu and Kashmir', 'Bharatiya Janata Party - BJP', '2'],\n",
        "    ['Jammu and Kashmir', 'Independent - IND', '1'],\n",
        "    ['Jharkhand', 'Bharatiya Janata Party - BJP', '8'],\n",
        "    ['Jharkhand', 'Jharkhand Mukti Morcha - JMM', '3'],\n",
        "    ['Jharkhand', 'Indian National Congress - INC', '2'],\n",
        "    ['Jharkhand', 'AJSU Party - AJSUP', '1'],\n",
        "    ['Karnataka', 'Bharatiya Janata Party - BJP', '17'],\n",
        "    ['Karnataka', 'Indian National Congress - INC', '9'],\n",
        "    ['Karnataka', 'Janata Dal  (Secular) - JD(S)', '2'],\n",
        "    ['Kerala', 'Indian National Congress - INC', '14'],\n",
        "    ['Kerala', 'Indian Union Muslim League - IUML', '2'],\n",
        "    ['Kerala', 'Communist Party of India  (Marxist) - CPI(M)', '1'],\n",
        "    ['Kerala', 'Bharatiya Janata Party - BJP', '1'],\n",
        "    ['Kerala', 'Kerala Congress - KEC', '1'],\n",
        "    ['Kerala', 'Revolutionary Socialist Party - RSP', '1'],\n",
        "    ['Ladakh', 'Independent - IND', '1'],\n",
        "    ['Lakshadweep', 'Indian National Congress - INC', '1'],\n",
        "    ['Madhya Pradesh', 'Bharatiya Janata Party - BJP', '29'],\n",
        "    ['Maharashtra', 'Indian National Congress - INC', '13'],\n",
        "    ['Maharashtra', 'Bharatiya Janata Party - BJP', '9'],\n",
        "    ['Maharashtra', 'Shiv Sena (Uddhav Balasaheb Thackrey) - SHSUBT', '9'],\n",
        "    ['Maharashtra', 'Nationalist Congress Party – Sharadchandra Pawar - NCPSP', '8'],\n",
        "    ['Maharashtra', 'Shiv Sena - SHS', '7'],\n",
        "    ['Maharashtra', 'Nationalist Congress Party - NCP', '1'],\n",
        "    ['Maharashtra', 'Independent - IND', '1'],\n",
        "    ['Manipur', 'Indian National Congress - INC', '2'],\n",
        "    ['Meghalaya', 'Voice of the People Party - VOTPP', '1'],\n",
        "    ['Meghalaya', 'Indian National Congress - INC', '1'],\n",
        "    ['Mizoram', 'Zoram People’s Movement - ZPM', '1'],\n",
        "    ['Nagaland', 'Indian National Congress - INC', '1'],\n",
        "    ['NCT OF Delhi', 'Bharatiya Janata Party - BJP', '7'],\n",
        "    ['Odisha', 'Bharatiya Janata Party - BJP', '20'],\n",
        "    ['Odisha', 'Indian National Congress - INC', '1'],\n",
        "    ['Puducherry', 'Indian National Congress - INC', '1'],\n",
        "    ['Punjab', 'Indian National Congress - INC', '7'],\n",
        "    ['Punjab', 'Aam Aadmi Party - AAAP', '3'],\n",
        "    ['Punjab', 'Shiromani Akali Dal - SAD', '1'],\n",
        "    ['Punjab', 'Independent - IND', '2'],\n",
        "    ['Rajasthan', 'Bharatiya Janata Party - BJP', '14'],\n",
        "    ['Rajasthan', 'Indian National Congress - INC', '8'],\n",
        "    ['Rajasthan', 'Communist Party of India  (Marxist) - CPI(M)', '1'],\n",
        "    ['Rajasthan', 'Rashtriya Loktantrik Party - RLTP', '1'],\n",
        "    ['Rajasthan', 'Bharat Adivasi Party - BHRTADVSIP', '1'],\n",
        "    ['Sikkim', 'Sikkim Krantikari Morcha - SKM', '1'],\n",
        "    ['Tamil Nadu', 'Dravida Munnetra Kazhagam - DMK', '22'],\n",
        "    ['Tamil Nadu', 'Indian National Congress - INC', '9'],\n",
        "    ['Tamil Nadu', 'Viduthalai Chiruthaigal Katchi - VCK', '2'],\n",
        "    ['Tamil Nadu', 'Communist Party of India - CPI', '2'],\n",
        "    ['Tamil Nadu', 'Communist Party of India  (Marxist) - CPI(M)', '2'],\n",
        "    ['Tamil Nadu', 'Marumalarchi Dravida Munnetra Kazhagam - MDMK', '1'],\n",
        "    ['Tamil Nadu', 'Indian Union Muslim League - IUML', '1'],\n",
        "    ['Telangana', 'Bharatiya Janata Party - BJP', '8'],\n",
        "    ['Telangana', 'Indian National Congress - INC', '8'],\n",
        "    ['Telangana', 'All India Majlis-E-Ittehadul Muslimeen - AIMIM', '1'],\n",
        "    ['Tripura', 'Bharatiya Janata Party - BJP', '2'],\n",
        "    ['Uttar Pradesh', 'Samajwadi Party - SP', '37'],\n",
        "    ['Uttar Pradesh', 'Bharatiya Janata Party - BJP', '33'],\n",
        "    ['Uttar Pradesh', 'Indian National Congress - INC', '6'],\n",
        "    ['Uttar Pradesh', 'Rashtriya Lok Dal - RLD', '2'],\n",
        "    ['Uttar Pradesh', 'Aazad Samaj Party (Kanshi Ram) - ASPKR', '1'],\n",
        "    ['Uttar Pradesh', 'Apna Dal (Soneylal) - ADAL', '1'],\n",
        "    ['Uttarakhand', 'Bharatiya Janata Party - BJP', '5'],\n",
        "    ['West Bengal', 'All India Trinamool Congress - AITC', '29'],\n",
        "    ['West Bengal', 'Bharatiya Janata Party - BJP', '12'],\n",
        "    ['West Bengal', 'Indian National Congress - INC', '1']\n",
        "]\n",
        "\n",
        "# Convert the list to a DataFrame\n",
        "df = pd.DataFrame(data, columns=['State/UT', 'Party', 'Seats'])\n",
        "\n",
        "# Save the DataFrame to an Excel file\n",
        "file_path = 'lok_sabha_election.xlsx'\n",
        "df.to_excel(file_path, index=False)\n",
        "\n",
        "print(f\"Data has been saved to {file_path}\")\n",
        "\n"
      ],
      "metadata": {
        "colab": {
          "base_uri": "https://localhost:8080/"
        },
        "id": "skqDumLLAs86",
        "outputId": "b38ce948-b83f-4b96-c84e-ba7105d2f50a"
      },
      "execution_count": 29,
      "outputs": [
        {
          "output_type": "stream",
          "name": "stdout",
          "text": [
            "Data has been saved to lok_sabha_election.xlsx\n"
          ]
        }
      ]
    },
    {
      "cell_type": "code",
      "source": [],
      "metadata": {
        "id": "KFUHDeoJhPgb"
      },
      "execution_count": null,
      "outputs": []
    }
  ]
}